{
 "cells": [
  {
   "cell_type": "markdown",
   "metadata": {},
   "source": [
    "### Problem Statement\n",
    "- You're a data scientist at Ford GoBike (https://www.fordgobike.com/), the company running Bay Area Bikeshare. You are trying to increase ridership, and you want to offer deals through the mobile app to do so. What deals do you offer though? Currently, your company has three options: a flat price for a single one-way trip, a day pass that allows unlimited 30-minute rides for 24 hours and an annual membership.\n",
    "\n",
    "- Through this project, you will answer these questions:\n",
    "\n",
    "    - What are the 5 most popular trips that you would call \"commuter trips\"?\n",
    "    - What are your recommendations for offers (justify based on your findings)?"
   ]
  },
  {
   "cell_type": "code",
   "execution_count": 14,
   "metadata": {},
   "outputs": [],
   "source": [
    "import pandas as pd\n",
    "import matplotlib.pyplot as plt\n",
    "# This tells matplotlib not to try opening a new window for each plot.\n",
    "%matplotlib inline"
   ]
  },
  {
   "cell_type": "markdown",
   "metadata": {},
   "source": [
    "**Let us first run the query to get the size of the dataset**"
   ]
  },
  {
   "cell_type": "code",
   "execution_count": 15,
   "metadata": {},
   "outputs": [
    {
     "name": "stdout",
     "output_type": "stream",
     "text": [
      "Waiting on bqjob_r1aebc3980e5e691d_00000168cb907946_1 ... (0s) Current status: DONE   \n",
      "Total number of rows in the trips dataset is 983648\n"
     ]
    }
   ],
   "source": [
    "!bq query --use_legacy_sql=false --format=csv 'SELECT count(*) as number_of_trips FROM `bigquery-public-data.san_francisco.bikeshare_trips`' > dataset_size.csv\n",
    "data_size = pd.read_csv('dataset_size.csv')\n",
    "print(\"\")\n",
    "print(\"Total number of rows in the trips dataset is %d\" %(data_size.number_of_trips))"
   ]
  },
  {
   "cell_type": "markdown",
   "metadata": {},
   "source": [
    "## What are the 5 most popular trips that you would call \"commuter trips\"?\n",
    "\n",
    "To answer this we can define commuter trip as a trip which has different start station and end station. Which would mean the bike was used to go from one place to the other such as from home to work rather than used by tourist who will generally drop the bike on the same station from where she/he rented the bike. To get the number of such trips we can run the count with the where clause where the start_station_name != end_station_name. \n",
    "Now, To get the 5 most popular trips we would need to run the count and group by start_station_name and end_station_name for the rows which satisfies the where condition start_station_name != end_station_name\n",
    "\n",
    "What I did was in the webquery ran the following SQL and then saved the results as a table called **commuter_trips_count**\n",
    "```sql\n",
    "SELECT start_station_name,\n",
    "       end_station_name,\n",
    "       count(*) as Number_of_commuter_trips\n",
    " FROM `bigquery-public-data.san_francisco.bikeshare_trips`\n",
    "WHERE start_station_name != end_station_name\n",
    "GROUP BY start_station_name,\n",
    "         end_station_name\n",
    "```\n",
    "Now,to get the 5 most popular commuter trips we can run query against this table"
   ]
  },
  {
   "cell_type": "code",
   "execution_count": 16,
   "metadata": {},
   "outputs": [
    {
     "name": "stdout",
     "output_type": "stream",
     "text": [
      "\r",
      "Waiting on bqjob_r31c7a85d2a8dfdb6_00000168cb9098d3_1 ... (0s) Current status: DONE   "
     ]
    }
   ],
   "source": [
    "!bq query --use_legacy_sql=false --format=csv 'SELECT start_station_name,end_station_name,Number_of_commuter_trips FROM `flowing-depot-228714.bike_trip_data.commuter_trips_count` ORDER BY Number_of_commuter_trips DESC LIMIT 5' > pop_trips.csv\n",
    "pop_trips=pd.read_csv('pop_trips.csv')"
   ]
  },
  {
   "cell_type": "markdown",
   "metadata": {},
   "source": [
    "Now, Let us print the 5 most popular trips amongst the commuters"
   ]
  },
  {
   "cell_type": "code",
   "execution_count": 17,
   "metadata": {},
   "outputs": [
    {
     "data": {
      "text/html": [
       "<div>\n",
       "<style scoped>\n",
       "    .dataframe tbody tr th:only-of-type {\n",
       "        vertical-align: middle;\n",
       "    }\n",
       "\n",
       "    .dataframe tbody tr th {\n",
       "        vertical-align: top;\n",
       "    }\n",
       "\n",
       "    .dataframe thead th {\n",
       "        text-align: right;\n",
       "    }\n",
       "</style>\n",
       "<table border=\"1\" class=\"dataframe\">\n",
       "  <thead>\n",
       "    <tr style=\"text-align: right;\">\n",
       "      <th></th>\n",
       "      <th>start_station_name</th>\n",
       "      <th>end_station_name</th>\n",
       "    </tr>\n",
       "  </thead>\n",
       "  <tbody>\n",
       "    <tr>\n",
       "      <th>0</th>\n",
       "      <td>Harry Bridges Plaza (Ferry Building)</td>\n",
       "      <td>Embarcadero at Sansome</td>\n",
       "    </tr>\n",
       "    <tr>\n",
       "      <th>1</th>\n",
       "      <td>San Francisco Caltrain 2 (330 Townsend)</td>\n",
       "      <td>Townsend at 7th</td>\n",
       "    </tr>\n",
       "    <tr>\n",
       "      <th>2</th>\n",
       "      <td>2nd at Townsend</td>\n",
       "      <td>Harry Bridges Plaza (Ferry Building)</td>\n",
       "    </tr>\n",
       "    <tr>\n",
       "      <th>3</th>\n",
       "      <td>Harry Bridges Plaza (Ferry Building)</td>\n",
       "      <td>2nd at Townsend</td>\n",
       "    </tr>\n",
       "    <tr>\n",
       "      <th>4</th>\n",
       "      <td>Embarcadero at Sansome</td>\n",
       "      <td>Steuart at Market</td>\n",
       "    </tr>\n",
       "  </tbody>\n",
       "</table>\n",
       "</div>"
      ],
      "text/plain": [
       "                        start_station_name  \\\n",
       "0     Harry Bridges Plaza (Ferry Building)   \n",
       "1  San Francisco Caltrain 2 (330 Townsend)   \n",
       "2                          2nd at Townsend   \n",
       "3     Harry Bridges Plaza (Ferry Building)   \n",
       "4                   Embarcadero at Sansome   \n",
       "\n",
       "                       end_station_name  \n",
       "0                Embarcadero at Sansome  \n",
       "1                       Townsend at 7th  \n",
       "2  Harry Bridges Plaza (Ferry Building)  \n",
       "3                       2nd at Townsend  \n",
       "4                     Steuart at Market  "
      ]
     },
     "execution_count": 17,
     "metadata": {},
     "output_type": "execute_result"
    }
   ],
   "source": [
    "pop_trips.iloc[:,0:2]"
   ]
  },
  {
   "cell_type": "markdown",
   "metadata": {},
   "source": [
    "# Reccomendations \n",
    "\n",
    "- Let us find which 20 zip codes have the least customers from but have at least 1000 customers"
   ]
  },
  {
   "cell_type": "code",
   "execution_count": 18,
   "metadata": {},
   "outputs": [
    {
     "name": "stdout",
     "output_type": "stream",
     "text": [
      "\r",
      "Waiting on bqjob_ra0892176dcf0062_00000168cb90be91_1 ... (0s) Current status: DONE   "
     ]
    },
    {
     "data": {
      "text/html": [
       "<div>\n",
       "<style scoped>\n",
       "    .dataframe tbody tr th:only-of-type {\n",
       "        vertical-align: middle;\n",
       "    }\n",
       "\n",
       "    .dataframe tbody tr th {\n",
       "        vertical-align: top;\n",
       "    }\n",
       "\n",
       "    .dataframe thead th {\n",
       "        text-align: right;\n",
       "    }\n",
       "</style>\n",
       "<table border=\"1\" class=\"dataframe\">\n",
       "  <thead>\n",
       "    <tr style=\"text-align: right;\">\n",
       "      <th></th>\n",
       "      <th>zip_code</th>\n",
       "      <th>number_of_cust</th>\n",
       "    </tr>\n",
       "  </thead>\n",
       "  <tbody>\n",
       "    <tr>\n",
       "      <th>0</th>\n",
       "      <td>94518</td>\n",
       "      <td>1024</td>\n",
       "    </tr>\n",
       "    <tr>\n",
       "      <th>1</th>\n",
       "      <td>94556</td>\n",
       "      <td>1038</td>\n",
       "    </tr>\n",
       "    <tr>\n",
       "      <th>2</th>\n",
       "      <td>94577</td>\n",
       "      <td>1050</td>\n",
       "    </tr>\n",
       "    <tr>\n",
       "      <th>3</th>\n",
       "      <td>94539</td>\n",
       "      <td>1053</td>\n",
       "    </tr>\n",
       "    <tr>\n",
       "      <th>4</th>\n",
       "      <td>95122</td>\n",
       "      <td>1060</td>\n",
       "    </tr>\n",
       "    <tr>\n",
       "      <th>5</th>\n",
       "      <td>95148</td>\n",
       "      <td>1086</td>\n",
       "    </tr>\n",
       "    <tr>\n",
       "      <th>6</th>\n",
       "      <td>94601</td>\n",
       "      <td>1086</td>\n",
       "    </tr>\n",
       "    <tr>\n",
       "      <th>7</th>\n",
       "      <td>94947</td>\n",
       "      <td>1092</td>\n",
       "    </tr>\n",
       "    <tr>\n",
       "      <th>8</th>\n",
       "      <td>94534</td>\n",
       "      <td>1095</td>\n",
       "    </tr>\n",
       "    <tr>\n",
       "      <th>9</th>\n",
       "      <td>94587</td>\n",
       "      <td>1151</td>\n",
       "    </tr>\n",
       "    <tr>\n",
       "      <th>10</th>\n",
       "      <td>94582</td>\n",
       "      <td>1196</td>\n",
       "    </tr>\n",
       "    <tr>\n",
       "      <th>11</th>\n",
       "      <td>1</td>\n",
       "      <td>1210</td>\n",
       "    </tr>\n",
       "    <tr>\n",
       "      <th>12</th>\n",
       "      <td>94563</td>\n",
       "      <td>1224</td>\n",
       "    </tr>\n",
       "    <tr>\n",
       "      <th>13</th>\n",
       "      <td>94502</td>\n",
       "      <td>1239</td>\n",
       "    </tr>\n",
       "    <tr>\n",
       "      <th>14</th>\n",
       "      <td>94089</td>\n",
       "      <td>1253</td>\n",
       "    </tr>\n",
       "    <tr>\n",
       "      <th>15</th>\n",
       "      <td>94605</td>\n",
       "      <td>1258</td>\n",
       "    </tr>\n",
       "    <tr>\n",
       "      <th>16</th>\n",
       "      <td>95118</td>\n",
       "      <td>1358</td>\n",
       "    </tr>\n",
       "    <tr>\n",
       "      <th>17</th>\n",
       "      <td>95035</td>\n",
       "      <td>1360</td>\n",
       "    </tr>\n",
       "    <tr>\n",
       "      <th>18</th>\n",
       "      <td>95134</td>\n",
       "      <td>1373</td>\n",
       "    </tr>\n",
       "    <tr>\n",
       "      <th>19</th>\n",
       "      <td>94804</td>\n",
       "      <td>1399</td>\n",
       "    </tr>\n",
       "  </tbody>\n",
       "</table>\n",
       "</div>"
      ],
      "text/plain": [
       "    zip_code  number_of_cust\n",
       "0      94518            1024\n",
       "1      94556            1038\n",
       "2      94577            1050\n",
       "3      94539            1053\n",
       "4      95122            1060\n",
       "5      95148            1086\n",
       "6      94601            1086\n",
       "7      94947            1092\n",
       "8      94534            1095\n",
       "9      94587            1151\n",
       "10     94582            1196\n",
       "11         1            1210\n",
       "12     94563            1224\n",
       "13     94502            1239\n",
       "14     94089            1253\n",
       "15     94605            1258\n",
       "16     95118            1358\n",
       "17     95035            1360\n",
       "18     95134            1373\n",
       "19     94804            1399"
      ]
     },
     "execution_count": 18,
     "metadata": {},
     "output_type": "execute_result"
    }
   ],
   "source": [
    "!bq query --use_legacy_sql=false --format=csv 'SELECT zip_code,count(*) number_of_cust FROM `bigquery-public-data.san_francisco.bikeshare_trips` GROUP BY zip_code HAVING number_of_cust > 1000 ORDER BY number_of_cust LIMIT 20' > unpopular_zip.csv\n",
    "unpopular_zip_codes = pd.read_csv('unpopular_zip.csv')\n",
    "unpopular_zip_codes"
   ]
  },
  {
   "cell_type": "markdown",
   "metadata": {},
   "source": [
    "**Recommendation: The above 20 zip codes are the ones which have critical mass of customers but the ridership can be increased. To acheive this I propose to create a referral program in these zip codes where customers who refer friends to Ford GoBike would receive coupons and discounts. This will make the bikes popular in these areas where the penetration is less.**"
   ]
  },
  {
   "cell_type": "markdown",
   "metadata": {},
   "source": [
    "- For Commuter trips let us find out how is the distribution of the trips across months "
   ]
  },
  {
   "cell_type": "code",
   "execution_count": 19,
   "metadata": {},
   "outputs": [
    {
     "name": "stdout",
     "output_type": "stream",
     "text": [
      "\r",
      "Waiting on bqjob_r18a6525b28647d80_00000168cb90d628_1 ... (0s) Current status: DONE   "
     ]
    },
    {
     "data": {
      "text/html": [
       "<div>\n",
       "<style scoped>\n",
       "    .dataframe tbody tr th:only-of-type {\n",
       "        vertical-align: middle;\n",
       "    }\n",
       "\n",
       "    .dataframe tbody tr th {\n",
       "        vertical-align: top;\n",
       "    }\n",
       "\n",
       "    .dataframe thead th {\n",
       "        text-align: right;\n",
       "    }\n",
       "</style>\n",
       "<table border=\"1\" class=\"dataframe\">\n",
       "  <thead>\n",
       "    <tr style=\"text-align: right;\">\n",
       "      <th></th>\n",
       "      <th>MONTH_NUMBER</th>\n",
       "      <th>NUMBER_OF_TRIPS</th>\n",
       "    </tr>\n",
       "  </thead>\n",
       "  <tbody>\n",
       "    <tr>\n",
       "      <th>0</th>\n",
       "      <td>1</td>\n",
       "      <td>69748</td>\n",
       "    </tr>\n",
       "    <tr>\n",
       "      <th>1</th>\n",
       "      <td>2</td>\n",
       "      <td>68000</td>\n",
       "    </tr>\n",
       "    <tr>\n",
       "      <th>2</th>\n",
       "      <td>3</td>\n",
       "      <td>79234</td>\n",
       "    </tr>\n",
       "    <tr>\n",
       "      <th>3</th>\n",
       "      <td>4</td>\n",
       "      <td>81834</td>\n",
       "    </tr>\n",
       "    <tr>\n",
       "      <th>4</th>\n",
       "      <td>5</td>\n",
       "      <td>83565</td>\n",
       "    </tr>\n",
       "    <tr>\n",
       "      <th>5</th>\n",
       "      <td>6</td>\n",
       "      <td>88816</td>\n",
       "    </tr>\n",
       "    <tr>\n",
       "      <th>6</th>\n",
       "      <td>7</td>\n",
       "      <td>86441</td>\n",
       "    </tr>\n",
       "    <tr>\n",
       "      <th>7</th>\n",
       "      <td>8</td>\n",
       "      <td>92268</td>\n",
       "    </tr>\n",
       "    <tr>\n",
       "      <th>8</th>\n",
       "      <td>9</td>\n",
       "      <td>83564</td>\n",
       "    </tr>\n",
       "    <tr>\n",
       "      <th>9</th>\n",
       "      <td>10</td>\n",
       "      <td>91151</td>\n",
       "    </tr>\n",
       "    <tr>\n",
       "      <th>10</th>\n",
       "      <td>11</td>\n",
       "      <td>70770</td>\n",
       "    </tr>\n",
       "    <tr>\n",
       "      <th>11</th>\n",
       "      <td>12</td>\n",
       "      <td>56210</td>\n",
       "    </tr>\n",
       "  </tbody>\n",
       "</table>\n",
       "</div>"
      ],
      "text/plain": [
       "    MONTH_NUMBER  NUMBER_OF_TRIPS\n",
       "0              1            69748\n",
       "1              2            68000\n",
       "2              3            79234\n",
       "3              4            81834\n",
       "4              5            83565\n",
       "5              6            88816\n",
       "6              7            86441\n",
       "7              8            92268\n",
       "8              9            83564\n",
       "9             10            91151\n",
       "10            11            70770\n",
       "11            12            56210"
      ]
     },
     "execution_count": 19,
     "metadata": {},
     "output_type": "execute_result"
    }
   ],
   "source": [
    "!bq query --use_legacy_sql=false --format=csv 'SELECT EXTRACT(MONTH FROM START_DATE) AS MONTH_NUMBER,COUNT(*) as NUMBER_OF_TRIPS FROM `bigquery-public-data.san_francisco.bikeshare_trips` WHERE START_STATION_NAME != END_STATION_NAME GROUP BY MONTH_NUMBER ORDER BY MONTH_NUMBER' > Monthly_commuter_rides.csv \n",
    "Monthly_Commuter_trips = pd.read_csv('Monthly_commuter_rides.csv')\n",
    "Monthly_Commuter_trips"
   ]
  },
  {
   "cell_type": "code",
   "execution_count": 20,
   "metadata": {},
   "outputs": [
    {
     "data": {
      "image/png": "[encoded data removed]",
      "text/plain": [
       "<Figure size 1296x576 with 1 Axes>"
      ]
     },
     "metadata": {},
     "output_type": "display_data"
    }
   ],
   "source": [
    "fig = plt.figure(figsize=(18,8))\n",
    "plt.bar(x=Monthly_Commuter_trips.MONTH_NUMBER, height=Monthly_Commuter_trips.NUMBER_OF_TRIPS,align='center')\n",
    "plt.xlabel(\"Month\")\n",
    "plt.xticks(Monthly_Commuter_trips.MONTH_NUMBER,('JAN','FEB','MAR','APR','MAY','JUN','JUL','AUG','SEP','OCT','NOV','DEC'))\n",
    "plt.ylabel(\"Number of Commuter Rides\")\n",
    "plt.title(\"Monthly Commuter Rides\")\n",
    "plt.show()"
   ]
  },
  {
   "cell_type": "markdown",
   "metadata": {},
   "source": [
    "**Recommendation: We see from the graph that december month has the least ridership for commuters. Which makes sense as its holiday season and riders would be on vacation. \n",
    "But what we also see is that there are months which have less trips than August which has the maximum number of trips. To encourage the Ridership in other months Ford Go Bike should target the months such as March,April May to have discounts on trips so that ridership can increase.**"
   ]
  },
  {
   "cell_type": "markdown",
   "metadata": {},
   "source": [
    "- Let us find out about the customer type for commuters"
   ]
  },
  {
   "cell_type": "code",
   "execution_count": 21,
   "metadata": {},
   "outputs": [
    {
     "name": "stdout",
     "output_type": "stream",
     "text": [
      "\r",
      "Waiting on bqjob_r65421faef3038922_00000168cb911d48_1 ... (0s) Current status: DONE   "
     ]
    },
    {
     "data": {
      "text/html": [
       "<div>\n",
       "<style scoped>\n",
       "    .dataframe tbody tr th:only-of-type {\n",
       "        vertical-align: middle;\n",
       "    }\n",
       "\n",
       "    .dataframe tbody tr th {\n",
       "        vertical-align: top;\n",
       "    }\n",
       "\n",
       "    .dataframe thead th {\n",
       "        text-align: right;\n",
       "    }\n",
       "</style>\n",
       "<table border=\"1\" class=\"dataframe\">\n",
       "  <thead>\n",
       "    <tr style=\"text-align: right;\">\n",
       "      <th></th>\n",
       "      <th>subscriber_type</th>\n",
       "      <th>number</th>\n",
       "    </tr>\n",
       "  </thead>\n",
       "  <tbody>\n",
       "    <tr>\n",
       "      <th>0</th>\n",
       "      <td>Subscriber</td>\n",
       "      <td>836945</td>\n",
       "    </tr>\n",
       "    <tr>\n",
       "      <th>1</th>\n",
       "      <td>Customer</td>\n",
       "      <td>114656</td>\n",
       "    </tr>\n",
       "  </tbody>\n",
       "</table>\n",
       "</div>"
      ],
      "text/plain": [
       "  subscriber_type  number\n",
       "0      Subscriber  836945\n",
       "1        Customer  114656"
      ]
     },
     "execution_count": 21,
     "metadata": {},
     "output_type": "execute_result"
    }
   ],
   "source": [
    "!bq query --use_legacy_sql=false --format=csv 'SELECT subscriber_type,count(*) as number  FROM `bigquery-public-data.san_francisco.bikeshare_trips` where start_station_name != end_station_name group by subscriber_type' > subscriber_type.csv\n",
    "Customer_type_count = pd.read_csv('subscriber_type.csv')\n",
    "Customer_type_count"
   ]
  },
  {
   "cell_type": "markdown",
   "metadata": {},
   "source": [
    "We see that most of the commuters are yearly or monthly subscriber. Let us find out how many commuter trips are between 0 to 15 mins and number between 15 to 30 mins "
   ]
  },
  {
   "cell_type": "code",
   "execution_count": 22,
   "metadata": {},
   "outputs": [
    {
     "name": "stdout",
     "output_type": "stream",
     "text": [
      "\r",
      "Waiting on bqjob_r122bfe69bfcb6234_00000168cb914b20_1 ... (0s) Current status: DONE   "
     ]
    },
    {
     "data": {
      "text/html": [
       "<div>\n",
       "<style scoped>\n",
       "    .dataframe tbody tr th:only-of-type {\n",
       "        vertical-align: middle;\n",
       "    }\n",
       "\n",
       "    .dataframe tbody tr th {\n",
       "        vertical-align: top;\n",
       "    }\n",
       "\n",
       "    .dataframe thead th {\n",
       "        text-align: right;\n",
       "    }\n",
       "</style>\n",
       "<table border=\"1\" class=\"dataframe\">\n",
       "  <thead>\n",
       "    <tr style=\"text-align: right;\">\n",
       "      <th></th>\n",
       "      <th>trips_between_0_15_mins</th>\n",
       "      <th>trips_between_15_30_mins</th>\n",
       "    </tr>\n",
       "  </thead>\n",
       "  <tbody>\n",
       "    <tr>\n",
       "      <th>0</th>\n",
       "      <td>816897</td>\n",
       "      <td>103956</td>\n",
       "    </tr>\n",
       "  </tbody>\n",
       "</table>\n",
       "</div>"
      ],
      "text/plain": [
       "   trips_between_0_15_mins  trips_between_15_30_mins\n",
       "0                   816897                    103956"
      ]
     },
     "execution_count": 22,
     "metadata": {},
     "output_type": "execute_result"
    }
   ],
   "source": [
    "!bq query --use_legacy_sql=false --format=csv 'SELECT SUM(IF(duration_sec < 900,1,0)) trips_between_0_15_mins,SUM(IF(duration_sec >= 900 and duration_sec < 1800,1,0)) trips_between_15_30_mins FROM `bigquery-public-data.san_francisco.bikeshare_trips` WHERE start_station_name != end_station_name and duration_sec < 1800' > short_trip_count.csv\n",
    "trip_count = pd.read_csv('short_trip_count.csv')\n",
    "trip_count"
   ]
  },
  {
   "cell_type": "markdown",
   "metadata": {},
   "source": [
    "**Recommendation: What we see is that most of the commuter trips are short between 0 to 30 mins and especially 0 to 15 mins. But most of the commuters have annual or monthly subscription. It will be a good business plan to introduce low cost daily unlimited rides for commuters so that they increase number of trips. Per trip might become cheaper because of this but due to increase in volume of trips there would be net gain in revenue**"
   ]
  },
  {
   "cell_type": "markdown",
   "metadata": {},
   "source": [
    "# Summary\n",
    "\n",
    "- We found that following are the **5 most popular trips amongst commuters**\n",
    "\n",
    "|start_station_name\t|end_station_name|\n",
    "|:-------------------:|:----------------:|\n",
    "|Harry Bridges Plaza (Ferry Building)|\tEmbarcadero at Sansome|\n",
    "|San Francisco Caltrain 2 (330 Townsend)\t|Townsend at 7th||\n",
    "|2nd at Townsend\t|Harry Bridges Plaza (Ferry Building)|\n",
    "|Harry Bridges Plaza (Ferry Building)|\t2nd at Townsend|\n",
    "|Embarcadero at Sansome\t|Steuart at Market|\n",
    "\n",
    "- **Recommendations:** Based on the data queried following are the recommendations to the Ford Go Bike\n",
    "    - Create a referral program in the 20 zip codes listed above where customers who refer friends to Ford GoBike would receive coupons and discounts. This will make the bikes popular in these areas where the penetration is less.\n",
    "    \n",
    "    - To encourage the Ridership in lean months Ford Go Bike should target the months such as March,April May to have discounts on trips so that ridership can increase.\n",
    "    \n",
    "    - Introduce low cost daily unlimited rides for commuters so that there is increase number of trips. Per trip might become cheaper because of this but due to increase in volume of trips there would be net gain in revenue.\n"
   ]
  }
 ],
 "metadata": {
  "kernelspec": {
   "display_name": "Python 3",
   "language": "python",
   "name": "python3"
  },
  "language_info": {
   "codemirror_mode": {
    "name": "ipython",
    "version": 3
   },
   "file_extension": ".py",
   "mimetype": "text/x-python",
   "name": "python",
   "nbconvert_exporter": "python",
   "pygments_lexer": "ipython3",
   "version": "3.5.2"
  }
 },
 "nbformat": 4,
 "nbformat_minor": 2
}
